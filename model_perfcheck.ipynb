{
 "cells": [
  {
   "cell_type": "code",
   "execution_count": 1,
   "id": "ee6b0502-e38c-4fac-a077-48d029568286",
   "metadata": {},
   "outputs": [
    {
     "name": "stderr",
     "output_type": "stream",
     "text": [
      "2022-09-29 17:03:58.379287: I tensorflow/core/util/util.cc:169] oneDNN custom operations are on. You may see slightly different numerical results due to floating-point round-off errors from different computation orders. To turn them off, set the environment variable `TF_ENABLE_ONEDNN_OPTS=0`.\n",
      "2022-09-29 17:03:58.681471: W tensorflow/stream_executor/platform/default/dso_loader.cc:64] Could not load dynamic library 'libcudart.so.11.0'; dlerror: libcudart.so.11.0: cannot open shared object file: No such file or directory\n",
      "2022-09-29 17:03:58.681513: I tensorflow/stream_executor/cuda/cudart_stub.cc:29] Ignore above cudart dlerror if you do not have a GPU set up on your machine.\n"
     ]
    },
    {
     "name": "stdout",
     "output_type": "stream",
     "text": [
      "/home/bhawks/RN07-Pokemon\n"
     ]
    },
    {
     "name": "stderr",
     "output_type": "stream",
     "text": [
      "2022-09-29 17:04:26.923268: W tensorflow/stream_executor/platform/default/dso_loader.cc:64] Could not load dynamic library 'libcuda.so.1'; dlerror: libcuda.so.1: cannot open shared object file: No such file or directory\n",
      "2022-09-29 17:04:26.937469: W tensorflow/stream_executor/cuda/cuda_driver.cc:269] failed call to cuInit: UNKNOWN ERROR (303)\n",
      "2022-09-29 17:04:26.937591: I tensorflow/stream_executor/cuda/cuda_diagnostics.cc:156] kernel driver does not appear to be running on this host (jupyter-bhawks-poke): /proc/driver/nvidia/version does not exist\n",
      "2022-09-29 17:04:26.950383: I tensorflow/core/platform/cpu_feature_guard.cc:193] This TensorFlow binary is optimized with oneAPI Deep Neural Network Library (oneDNN) to use the following CPU instructions in performance-critical operations:  AVX2 AVX512F AVX512_VNNI FMA\n",
      "To enable them in other operations, rebuild TensorFlow with the appropriate compiler flags.\n"
     ]
    }
   ],
   "source": [
    "import numpy as np\n",
    "import tensorflow as tf\n",
    "from tensorflow import keras\n",
    "from resnet_rn06_eembc import * \n",
    "import qkeras\n",
    "!pwd\n",
    "model = qkeras.utils.load_qmodel('resnet_v1_eembc_RN06_bilinear/small_model_best.h5')\n",
    "from tensorflow.keras.preprocessing.image import ImageDataGenerator\n",
    "from sklearn.metrics import roc_auc_score, accuracy_score, top_k_accuracy_score\n",
    "batch_size=32"
   ]
  },
  {
   "cell_type": "code",
   "execution_count": 2,
   "id": "34838e0e-01b1-47a4-a996-57adb8a932d6",
   "metadata": {},
   "outputs": [
    {
     "name": "stdout",
     "output_type": "stream",
     "text": [
      "Found 2002 images belonging to 10 classes.\n",
      "Found 665 images belonging to 10 classes.\n",
      "Found 532 images belonging to 10 classes.\n",
      "Found 532 images belonging to 10 classes.\n"
     ]
    }
   ],
   "source": [
    "    datagen = ImageDataGenerator(\n",
    "        rotation_range=15,\n",
    "        width_shift_range=0.1,\n",
    "        height_shift_range=0.1,\n",
    "        horizontal_flip=True,\n",
    "        validation_split=0.25,\n",
    "        rescale=1./255 # normalize values to between 0-1\n",
    "        # preprocessing_function=random_crop,\n",
    "        #brightness_range=(0.9, 1.2),\n",
    "        #contrast_range=(0.9, 1.2)\n",
    "    )\n",
    "    tdatagen = ImageDataGenerator(rescale=1./255)\n",
    "    \n",
    "    datagen = ImageDataGenerator(\n",
    "        rotation_range=15,\n",
    "        width_shift_range=0.1,\n",
    "        height_shift_range=0.1,\n",
    "        horizontal_flip=True,\n",
    "        validation_split=0.25,\n",
    "        rescale=1./255 # normalize values to between 0-1\n",
    "        # preprocessing_function=random_crop,\n",
    "        #brightness_range=(0.9, 1.2),\n",
    "        #contrast_range=(0.9, 1.2)\n",
    "    )\n",
    "    tdatagen = ImageDataGenerator(rescale=1./255)\n",
    "    \n",
    "    \n",
    "    train_generator = datagen.flow_from_directory('./data/SmallPokemonData/',\n",
    "                                target_size=(32,32),\n",
    "                                batch_size=batch_size,\n",
    "                                color_mode='rgb',\n",
    "                                class_mode='categorical',\n",
    "                                interpolation='bilinear',\n",
    "                                subset='training',\n",
    "                                keep_aspect_ratio=True,                                             \n",
    "                                )\n",
    "    \n",
    "    validation_generator = datagen.flow_from_directory('./data/SmallPokemonData/',\n",
    "                                target_size=(32,32),\n",
    "                                batch_size=batch_size,\n",
    "                                color_mode='rgb',\n",
    "                                class_mode='categorical',\n",
    "                                interpolation='bilinear',\n",
    "                                subset='validation',\n",
    "                                keep_aspect_ratio=True\n",
    "                                )    \n",
    "    test_generator = datagen.flow_from_directory('./data/PokeCard/',\n",
    "                            target_size=(32,32),\n",
    "                            batch_size=1,\n",
    "                            color_mode='rgb',\n",
    "                            class_mode='categorical',\n",
    "                            interpolation='bilinear',\n",
    "                            shuffle=False)#,\n",
    "                            #keep_aspect_ratio=True)\n",
    "    \n",
    "    test2_generator = tdatagen.flow_from_directory('./data/PokeCard/',\n",
    "                            target_size=(32,32),\n",
    "                            batch_size=batch_size,\n",
    "                            color_mode='rgb',\n",
    "                            class_mode='categorical',\n",
    "                            interpolation='bilinear',\n",
    "                            shuffle=False)#,\n",
    "                            #keep_aspect_ratio=True)"
   ]
  },
  {
   "cell_type": "code",
   "execution_count": 3,
   "id": "4185ba27-17d9-4e1f-95af-059e8738c466",
   "metadata": {},
   "outputs": [
    {
     "name": "stdout",
     "output_type": "stream",
     "text": [
      "Model: \"model\"\n",
      "_________________________________________________________________\n",
      " Layer (type)                Output Shape              Param #   \n",
      "=================================================================\n",
      " input_1 (InputLayer)        [(None, 32, 32, 3)]       0         \n",
      "                                                                 \n",
      " q_conv2d_batchnorm (QConv2D  (None, 8, 8, 32)         1025      \n",
      " Batchnorm)                                                      \n",
      "                                                                 \n",
      " q_activation (QActivation)  (None, 8, 8, 32)          0         \n",
      "                                                                 \n",
      " q_conv2d_batchnorm_1 (QConv  (None, 8, 8, 32)         9377      \n",
      " 2DBatchnorm)                                                    \n",
      "                                                                 \n",
      " q_activation_1 (QActivation  (None, 8, 8, 32)         0         \n",
      " )                                                               \n",
      "                                                                 \n",
      " q_conv2d_batchnorm_2 (QConv  (None, 8, 8, 32)         9377      \n",
      " 2DBatchnorm)                                                    \n",
      "                                                                 \n",
      " q_activation_2 (QActivation  (None, 8, 8, 32)         0         \n",
      " )                                                               \n",
      "                                                                 \n",
      " flatten (Flatten)           (None, 2048)              0         \n",
      "                                                                 \n",
      " q_dense (QDense)            (None, 10)                20490     \n",
      "                                                                 \n",
      " softmax (Activation)        (None, 10)                0         \n",
      "                                                                 \n",
      "=================================================================\n",
      "Total params: 40,269\n",
      "Trainable params: 40,074\n",
      "Non-trainable params: 195\n",
      "_________________________________________________________________\n"
     ]
    }
   ],
   "source": [
    "model.summary()"
   ]
  },
  {
   "cell_type": "code",
   "execution_count": 31,
   "id": "2ca16a3c-bf95-4acf-9653-9a356653d75d",
   "metadata": {},
   "outputs": [
    {
     "name": "stdout",
     "output_type": "stream",
     "text": [
      "17/17 [==============================] - 1s 78ms/step - loss: 2.1585 - accuracy: 0.6165\n",
      "[2.158482074737549, 0.61654132604599]\n"
     ]
    }
   ],
   "source": [
    "score = model.evaluate(test_generator)\n",
    "print(score)"
   ]
  },
  {
   "cell_type": "code",
   "execution_count": 67,
   "id": "c29177c8-d7a1-4c74-9ab9-71b489e16198",
   "metadata": {},
   "outputs": [
    {
     "name": "stdout",
     "output_type": "stream",
     "text": [
      "532\n"
     ]
    }
   ],
   "source": [
    "data_list = []\n",
    "batch_index = 0\n",
    "while batch_index <= test_generator.batch_index:\n",
    "    data = test_generator.next()\n",
    "    data_list.append(data[0])\n",
    "    batch_index = batch_index + 1\n",
    "print(len(data_list))"
   ]
  },
  {
   "cell_type": "code",
   "execution_count": 32,
   "id": "4fb26214-ad29-4612-9bdf-cd524577dbaf",
   "metadata": {},
   "outputs": [
    {
     "name": "stdout",
     "output_type": "stream",
     "text": [
      "17/17 [==============================] - 1s 54ms/step - loss: 1.9077 - accuracy: 0.6560\n",
      "[1.9077112674713135, 0.6560150384902954]\n"
     ]
    }
   ],
   "source": [
    "score2 = model.evaluate(test2_generator)\n",
    "print(score2)"
   ]
  },
  {
   "cell_type": "code",
   "execution_count": 61,
   "id": "036ba3b9-b87b-435c-b316-767d2d5403f0",
   "metadata": {},
   "outputs": [
    {
     "name": "stdout",
     "output_type": "stream",
     "text": [
      "17/17 [==============================] - 2s 85ms/step\n",
      "17/17 [==============================] - 1s 84ms/step - loss: 2.0028 - accuracy: 0.6109\n",
      "[9.7202522e-01 1.1304166e-06 1.5874539e-08 1.9208174e-10 1.9409043e-09\n",
      " 2.8128757e-06 1.5673648e-05 1.5046643e-07 1.2890866e-06 2.7953813e-02]\n",
      "[0 0 0 0 0 0 0 0 0 0 0 0 1 1 1 1 1 1 1 1 1 1 1 1 1 1 1 1 1 1 1 1 1 1 1 1 2\n",
      " 2 2 2 2 2 2 2 2 2 2 2 2 2 2 2 2 2 2 2 2 2 2 2 2 2 2 2 2 2 2 2 2 2 2 2 2 2\n",
      " 2 2 2 2 2 2 2 2 2 2 2 2 2 2 2 2 2 2 2 2 2 3 3 3 3 3 3 3 3 3 3 3 3 3 3 3 3\n",
      " 3 3 3 3 3 3 3 3 3 3 3 3 3 3 3 3 3 3 3 3 3 3 3 3 3 3 3 3 3 3 3 3 3 3 4 4 4\n",
      " 4 4 4 4 4 4 4 4 4 4 4 4 4 4 4 4 4 5 5 5 5 5 5 5 5 5 5 5 5 5 5 5 5 5 5 5 5\n",
      " 5 5 5 5 5 5 5 5 5 5 5 5 5 5 5 5 5 5 5 5 5 5 5 5 5 5 5 5 5 5 5 5 5 5 5 5 5\n",
      " 5 5 5 5 5 5 5 5 5 5 5 5 5 5 5 5 5 5 5 5 5 5 5 5 5 5 5 5 5 5 5 5 5 5 5 5 5\n",
      " 5 5 5 5 6 6 6 6 6 6 6 6 6 6 6 6 6 6 6 6 6 6 6 6 6 6 6 6 6 6 6 6 6 6 7 7 7\n",
      " 7 7 7 7 7 7 7 7 7 7 7 7 7 7 7 7 7 7 7 7 7 7 7 7 7 7 7 7 7 7 7 7 7 7 7 7 7\n",
      " 7 7 7 7 7 7 7 7 7 7 7 7 7 7 7 7 7 7 7 7 7 7 7 7 7 7 7 7 7 7 7 7 7 7 7 7 7\n",
      " 7 7 7 7 7 7 7 7 7 7 7 7 7 7 7 7 7 7 7 7 7 7 7 7 7 7 7 7 7 7 7 7 7 7 7 7 7\n",
      " 7 7 7 7 7 7 7 7 7 7 7 7 7 7 7 7 7 7 7 7 7 7 7 7 7 7 7 7 7 7 7 7 7 7 7 7 7\n",
      " 7 7 7 7 7 7 7 7 7 7 7 7 7 7 7 7 8 8 8 8 8 8 8 8 8 8 8 8 8 8 8 8 8 8 8 8 8\n",
      " 8 8 8 8 8 8 8 8 8 8 8 8 8 8 8 8 8 8 8 8 8 8 8 8 8 8 8 8 8 8 8 8 8 8 8 8 9\n",
      " 9 9 9 9 9 9 9 9 9 9 9 9 9 9]\n",
      "0.7781954887218046\n"
     ]
    }
   ],
   "source": [
    "    y_pred = model.predict(test_generator)\n",
    "    # evaluate with test dataset and share same prediction results\n",
    "    evaluation = model.evaluate(test_generator)\n",
    "    y_test = test_generator.classes\n",
    "    print(y_pred[0])\n",
    "    print(y_test)\n",
    "    score = top_k_accuracy_score(y_test, y_pred, k=2)\n",
    "    print(score)"
   ]
  },
  {
   "cell_type": "code",
   "execution_count": null,
   "id": "47b18b4d-256e-4b12-80db-c22733a71f5c",
   "metadata": {},
   "outputs": [],
   "source": []
  },
  {
   "cell_type": "code",
   "execution_count": null,
   "id": "fc5c7493-4b9c-44e8-8c76-86be548275cc",
   "metadata": {},
   "outputs": [],
   "source": []
  }
 ],
 "metadata": {
  "kernelspec": {
   "display_name": "dune-1dcnn",
   "language": "python",
   "name": "dune-1dcnn"
  },
  "language_info": {
   "codemirror_mode": {
    "name": "ipython",
    "version": 3
   },
   "file_extension": ".py",
   "mimetype": "text/x-python",
   "name": "python",
   "nbconvert_exporter": "python",
   "pygments_lexer": "ipython3",
   "version": "3.9.9"
  }
 },
 "nbformat": 4,
 "nbformat_minor": 5
}
