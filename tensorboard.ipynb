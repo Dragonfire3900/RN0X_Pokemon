{
 "cells": [
  {
   "cell_type": "code",
   "execution_count": 5,
   "id": "42f4db73-4167-493e-9275-a3e1e5a030ee",
   "metadata": {},
   "outputs": [
    {
     "name": "stdout",
     "output_type": "stream",
     "text": [
      "no change     /opt/conda/condabin/conda\n",
      "no change     /opt/conda/bin/conda\n",
      "no change     /opt/conda/bin/conda-env\n",
      "no change     /opt/conda/bin/activate\n",
      "no change     /opt/conda/bin/deactivate\n",
      "no change     /opt/conda/etc/profile.d/conda.sh\n",
      "no change     /opt/conda/etc/fish/conf.d/conda.fish\n",
      "no change     /opt/conda/shell/condabin/Conda.psm1\n",
      "no change     /opt/conda/shell/condabin/conda-hook.ps1\n",
      "no change     /opt/conda/lib/python3.8/site-packages/xontrib/conda.xsh\n",
      "no change     /opt/conda/etc/profile.d/conda.csh\n",
      "no change     /home/bhawks/.bashrc\n",
      "No action taken.\n",
      "\n",
      "CommandNotFoundError: Your shell has not been properly configured to use 'conda activate'.\n",
      "To initialize your shell, run\n",
      "\n",
      "    $ conda init <SHELL_NAME>\n",
      "\n",
      "Currently supported shells are:\n",
      "  - bash\n",
      "  - fish\n",
      "  - tcsh\n",
      "  - xonsh\n",
      "  - zsh\n",
      "  - powershell\n",
      "\n",
      "See 'conda init --help' for more information and options.\n",
      "\n",
      "IMPORTANT: You may need to close and restart your shell after running 'conda init'.\n",
      "\n",
      "\n",
      "The tensorboard extension is already loaded. To reload it, use:\n",
      "  %reload_ext tensorboard\n"
     ]
    },
    {
     "data": {
      "text/plain": [
       "ERROR: Failed to launch TensorBoard (exited with 1).\n",
       "Contents of stderr:\n",
       "Traceback (most recent call last):\n",
       "  File \"/opt/conda/lib/python3.8/site-packages/tensorboard/compat/__init__.py\", line 42, in tf\n",
       "    from tensorboard.compat import notf  # noqa: F401\n",
       "ImportError: cannot import name 'notf' from 'tensorboard.compat' (/opt/conda/lib/python3.8/site-packages/tensorboard/compat/__init__.py)\n",
       "\n",
       "During handling of the above exception, another exception occurred:\n",
       "\n",
       "Traceback (most recent call last):\n",
       "  File \"/opt/conda/bin/tensorboard\", line 10, in <module>\n",
       "    sys.exit(run_main())\n",
       "  File \"/opt/conda/lib/python3.8/site-packages/tensorboard/main.py\", line 39, in run_main\n",
       "    main_lib.global_init()\n",
       "  File \"/opt/conda/lib/python3.8/site-packages/tensorboard/main_lib.py\", line 40, in global_init\n",
       "    if getattr(tf, \"__version__\", \"stub\") == \"stub\":\n",
       "  File \"/opt/conda/lib/python3.8/site-packages/tensorboard/lazy.py\", line 65, in __getattr__\n",
       "    return getattr(load_once(self), attr_name)\n",
       "  File \"/opt/conda/lib/python3.8/site-packages/tensorboard/lazy.py\", line 97, in wrapper\n",
       "    cache[arg] = f(arg)\n",
       "  File \"/opt/conda/lib/python3.8/site-packages/tensorboard/lazy.py\", line 50, in load_once\n",
       "    module = load_fn()\n",
       "  File \"/opt/conda/lib/python3.8/site-packages/tensorboard/compat/__init__.py\", line 45, in tf\n",
       "    import tensorflow\n",
       "  File \"/home/bhawks/.local/lib/python3.8/site-packages/tensorflow/__init__.py\", line 438, in <module>\n",
       "    _ll.load_library(_main_dir)\n",
       "  File \"/home/bhawks/.local/lib/python3.8/site-packages/tensorflow/python/framework/load_library.py\", line 154, in load_library\n",
       "    py_tf.TF_LoadLibrary(lib)\n",
       "tensorflow.python.framework.errors_impl.NotFoundError: /opt/conda/lib/python3.8/site-packages/tensorflow/core/kernels/libtfkernel_sobol_op.so: undefined symbol: _ZNK10tensorflow8OpKernel11TraceStringB5cxx11ERKNS_15OpKernelContextEb"
      ]
     },
     "metadata": {},
     "output_type": "display_data"
    }
   ],
   "source": [
    "!conda init && conda activate dune-1dcnn\n",
    "!export LD_LIBRARY_PATH=$LD_LIBRARY_PATH:/home/bhawks/.conda/envs/dune-1dcnn/lib\n",
    "%load_ext tensorboard\n",
    "%tensorboard --logdir logs/fit_151/ --path_prefix /tensorboard"
   ]
  },
  {
   "cell_type": "code",
   "execution_count": null,
   "id": "16c6fa6f-75b2-4ed4-88c4-1a74c45c0107",
   "metadata": {},
   "outputs": [],
   "source": []
  },
  {
   "cell_type": "code",
   "execution_count": null,
   "id": "e4b330c2-7eb5-48ed-b043-8fb20a8dbcf6",
   "metadata": {},
   "outputs": [],
   "source": []
  }
 ],
 "metadata": {
  "kernelspec": {
   "display_name": "dune-1dcnn",
   "language": "python",
   "name": "dune-1dcnn"
  },
  "language_info": {
   "codemirror_mode": {
    "name": "ipython",
    "version": 3
   },
   "file_extension": ".py",
   "mimetype": "text/x-python",
   "name": "python",
   "nbconvert_exporter": "python",
   "pygments_lexer": "ipython3",
   "version": "3.9.9"
  }
 },
 "nbformat": 4,
 "nbformat_minor": 5
}
